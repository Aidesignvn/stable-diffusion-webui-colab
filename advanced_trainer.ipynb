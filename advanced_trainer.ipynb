{
  "cells": [
    {
      "cell_type": "markdown",
      "metadata": {
        "id": "view-in-github"
      },
      "source": [
        "[![Open In Colab](https://colab.research.google.com/assets/colab-badge.svg)](https://colab.research.google.com/github/camenduru/stable-diffusion-webui-colab/blob/training/advanced_trainer.ipynb)"
      ]
    },
    {
      "cell_type": "code",
      "execution_count": null,
      "metadata": {
        "id": "SaAJk33ppFw1"
      },
      "outputs": [],
      "source": [
        "%cd /content\n",
        "\n",
        "from google.colab import drive\n",
        "drive.mount('/content/drive')\n",
        "\n",
        "!apt -y update -qq\n",
        "!wget https://github.com/camenduru/gperftools/releases/download/v1.0/libtcmalloc_minimal.so.4 -O /content/libtcmalloc_minimal.so.4\n",
        "%env LD_PRELOAD=/content/libtcmalloc_minimal.so.4\n",
        "\n",
        "!apt -y install -qq aria2 libcairo2-dev pkg-config python3-dev\n",
        "!pip install -q torch==2.0.1+cu118 torchvision==0.15.2+cu118 torchaudio==2.0.2+cu118 torchtext==0.15.2 torchdata==0.6.1 --extra-index-url https://download.pytorch.org/whl/cu118 -U\n",
        "!pip install -q xformers==0.0.20 triton==2.0.0 gradio_client==0.2.7 -U\n",
        "!pip install transformers==4.31.0 accelerate==0.16.0 datasets==2.14.0 gradio==3.38.0 wandb==0.15.7 -U\n",
        "!pip install git+https://github.com/huggingface/diffusers@c6ae9b7df65bbeee93e49fc11e6044f9ce8b56e1\n",
        "!git clone https://huggingface.co/uf/cyberrealistic_v3.2 /content/model\n",
        "\n",
        "!git clone https://github.com/camenduru/trainer\n",
        "%cd /content/trainer\n",
        "!git clone https://github.com/camenduru/sd-scripts\n",
        "%cd /content/trainer/sd-scripts\n",
        "!pip install -r /content/trainer/sd-scripts/requirements.txt\n",
        "%cd /content/trainer\n",
        "\n",
        "!python trainer.py"
      ]
    },
    {
      "cell_type": "code",
      "execution_count": null,
      "metadata": {},
      "outputs": [],
      "source": [
        "model_raw_url = \"https://huggingface.co/camenduru/testA/raw/main/output_dir_1250\"\n",
        "model_resolve_url = \"https://huggingface.co/camenduru/testA/resolve/main/output_dir_1250\"\n",
        "\n",
        "!aria2c --console-log-level=error -c -x 16 -s 16 -k 1M {model_raw_url}/model_index.json -d /content/trainer/diffusers/text_to_image/output_dir -o model_index.json\n",
        "!aria2c --console-log-level=error -c -x 16 -s 16 -k 1M {model_resolve_url}/vae/diffusion_pytorch_model.bin -d /content/trainer/diffusers/text_to_image/output_dir -o vae/diffusion_pytorch_model.bin\n",
        "!aria2c --console-log-level=error -c -x 16 -s 16 -k 1M {model_raw_url}/vae/config.json -d /content/trainer/diffusers/text_to_image/output_dir -o vae/config.json\n",
        "!aria2c --console-log-level=error -c -x 16 -s 16 -k 1M {model_resolve_url}/unet/diffusion_pytorch_model.bin -d /content/trainer/diffusers/text_to_image/output_dir -o unet/diffusion_pytorch_model.bin\n",
        "!aria2c --console-log-level=error -c -x 16 -s 16 -k 1M {model_raw_url}/unet/config.json -d /content/trainer/diffusers/text_to_image/output_dir -o unet/config.json\n",
        "!aria2c --console-log-level=error -c -x 16 -s 16 -k 1M {model_raw_url}/tokenizer/vocab.json -d /content/trainer/diffusers/text_to_image/output_dir -o tokenizer/vocab.json\n",
        "!aria2c --console-log-level=error -c -x 16 -s 16 -k 1M {model_raw_url}/tokenizer/tokenizer_config.json -d /content/trainer/diffusers/text_to_image/output_dir -o tokenizer/tokenizer_config.json\n",
        "!aria2c --console-log-level=error -c -x 16 -s 16 -k 1M {model_raw_url}/tokenizer/special_tokens_map.json -d /content/trainer/diffusers/text_to_image/output_dir -o tokenizer/special_tokens_map.json\n",
        "!aria2c --console-log-level=error -c -x 16 -s 16 -k 1M {model_raw_url}/tokenizer/merges.txt -d /content/trainer/diffusers/text_to_image/output_dir -o tokenizer/merges.txt\n",
        "!aria2c --console-log-level=error -c -x 16 -s 16 -k 1M {model_resolve_url}/text_encoder/pytorch_model.bin -d /content/trainer/diffusers/text_to_image/output_dir -o text_encoder/pytorch_model.bin\n",
        "!aria2c --console-log-level=error -c -x 16 -s 16 -k 1M {model_raw_url}/text_encoder/config.json -d /content/trainer/diffusers/text_to_image/output_dir -o text_encoder/config.json\n",
        "!aria2c --console-log-level=error -c -x 16 -s 16 -k 1M {model_raw_url}/scheduler/scheduler_config.json -d /content/trainer/diffusers/text_to_image/output_dir -o scheduler/scheduler_config.json\n",
        "!aria2c --console-log-level=error -c -x 16 -s 16 -k 1M {model_resolve_url}/safety_checker/pytorch_model.bin -d /content/trainer/diffusers/text_to_image/output_dir -o safety_checker/pytorch_model.bin\n",
        "!aria2c --console-log-level=error -c -x 16 -s 16 -k 1M {model_raw_url}/safety_checker/config.json -d /content/trainer/diffusers/text_to_image/output_dir -o safety_checker/config.json\n",
        "!aria2c --console-log-level=error -c -x 16 -s 16 -k 1M {model_raw_url}/feature_extractor/preprocessor_config.json -d /content/trainer/diffusers/text_to_image/output_dir -o feature_extractor/preprocessor_config.json"
      ]
    }
  ],
  "metadata": {
    "accelerator": "GPU",
    "colab": {
      "private_outputs": true,
      "provenance": []
    },
    "gpuClass": "standard",
    "kernelspec": {
      "display_name": "Python 3",
      "name": "python3"
    },
    "language_info": {
      "name": "python"
    }
  },
  "nbformat": 4,
  "nbformat_minor": 0
}
