{
  "nbformat": 4,
  "nbformat_minor": 0,
  "metadata": {
    "colab": {
      "private_outputs": true,
      "provenance": [],
      "gpuType": "T4",
      "authorship_tag": "ABX9TyONGSHY9Fh+0ePqnvxTKbav"
    },
    "kernelspec": {
      "name": "python3",
      "display_name": "Python 3"
    },
    "language_info": {
      "name": "python"
    },
    "accelerator": "GPU",
    "gpuClass": "standard"
  },
  "cells": [
    {
      "cell_type": "code",
      "execution_count": null,
      "metadata": {
        "id": "Sr4ob9S0QylL"
      },
      "outputs": [],
      "source": [
        "#@title Check if you want to use Google Drive then run the cell.\n",
        "from IPython.utils import capture\n",
        "import os\n",
        "gdrive = True #@param {type:\"boolean\"}\n",
        "\n",
        "# Fixing colab ram management (credits to Daviljoe193)\n",
        "print(\"Setting up Daviljoe193's fix for colab's ram management...\")\n",
        "with capture.capture_output() as cap:\n",
        "    !wget http://launchpadlibrarian.net/367274644/libgoogle-perftools-dev_2.5-2.2ubuntu3_amd64.deb\n",
        "    !wget https://launchpad.net/ubuntu/+source/google-perftools/2.5-2.2ubuntu3/+build/14795286/+files/google-perftools_2.5-2.2ubuntu3_all.deb\n",
        "    !wget https://launchpad.net/ubuntu/+source/google-perftools/2.5-2.2ubuntu3/+build/14795286/+files/libtcmalloc-minimal4_2.5-2.2ubuntu3_amd64.deb\n",
        "    !wget https://launchpad.net/ubuntu/+source/google-perftools/2.5-2.2ubuntu3/+build/14795286/+files/libgoogle-perftools4_2.5-2.2ubuntu3_amd64.deb\n",
        "    !apt -y install libunwind8-dev\n",
        "    !dpkg -i *.deb\n",
        "    %env LD_PRELOAD=libtcmalloc.so\n",
        "    !rm *.deb\n",
        "print(\"Done.\")\n",
        "\n",
        "# Mounting Google Drive if asked for\n",
        "if gdrive:\n",
        "    from google.colab import drive\n",
        "    drive.mount(\"/content/gdrive\")\n",
        "    root = \"/content/gdrive/MyDrive\"\n",
        "else:\n",
        "    root = \"/content\"\n",
        "\n",
        "# Downloading kohya if not existing, updating if existing\n",
        "if not os.path.exists(\"{root}/kohya_ss\"):\n",
        "    print(\"Downloading Kohya_ss...\")\n",
        "    with capture.capture_output() as cap:\n",
        "        %cd $root\n",
        "        !git clone https://github.com/bmaltais/kohya_ss kohya_ss\n",
        "    print(\"Done.\")\n",
        "else:\n",
        "    print(\"Updating Kohya_ss...\")\n",
        "    with capture.capture_output() as cap:\n",
        "        %cd $root\n",
        "        !git pull\n",
        "    print(\"Done.\")\n",
        "\n",
        "print(\"Installing requirements... (Takes a few minutes.)\")\n",
        "#with capture.capture_output() as cap:\n",
        "%cd $root/kohya_ss\n",
        "!pip install -r requirements.txt --upgrade-strategy only-if-needed\n",
        "print(\"test pip tensorrt\")\n",
        "!pip install nvidia-tensorrt\n",
        "print(\"Done.\")\n",
        "\n",
        "# Launching kohya\n",
        "print(\"Launching Kohya_ss...\")\n",
        "!python kohya_gui.py --share"
      ]
    },
    {
      "cell_type": "markdown",
      "source": [
        "This colab is still in ALPHA state. Please report whatever unexpected stuff here:\n",
        "\n",
        "[Discord](https://discord.com/channels/1077510466470952990/1095175992873582592) --- [Github](https://shorturl.at/anFW8)"
      ],
      "metadata": {
        "id": "ygJE3QeteBO_"
      }
    }
  ]
}