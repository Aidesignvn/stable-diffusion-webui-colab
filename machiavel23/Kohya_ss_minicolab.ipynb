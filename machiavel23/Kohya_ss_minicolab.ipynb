{
  "nbformat": 4,
  "nbformat_minor": 0,
  "metadata": {
    "colab": {
      "private_outputs": true,
      "provenance": [],
      "gpuType": "T4",
      "authorship_tag": "ABX9TyOLMvy2doVi3uBlMLZSiihr"
    },
    "kernelspec": {
      "name": "python3",
      "display_name": "Python 3"
    },
    "language_info": {
      "name": "python"
    },
    "accelerator": "GPU",
    "gpuClass": "standard"
  },
  "cells": [
    {
      "cell_type": "code",
      "execution_count": null,
      "metadata": {
        "id": "Sr4ob9S0QylL",
        "cellView": "form"
      },
      "outputs": [],
      "source": [
        "#@title Minicolab to run Kohya_ss\n",
        "#@markdown <- Click this to start. Google Drive is mandatory.\n",
        "#@markdown ___\n",
        "\n",
        "from IPython.utils import capture\n",
        "from google.colab import drive\n",
        "import os\n",
        "\n",
        "\n",
        "# Mounting Google Drive\n",
        "print(\"Mounting Google Drive...\")\n",
        "with capture.capture_output() as cap:\n",
        "    drive.mount(\"/content/gdrive\")\n",
        "print(\"Done.\")\n",
        "print(\"You can find your drive content in /content/drive/MyDrive\")\n",
        "\n",
        "# Fixing colab ram management (credits to Daviljoe193)\n",
        "print(\"Setting up Daviljoe193's fix for colab's ram management...\")\n",
        "with capture.capture_output() as cap:\n",
        "    !wget http://launchpadlibrarian.net/367274644/libgoogle-perftools-dev_2.5-2.2ubuntu3_amd64.deb\n",
        "    !wget https://launchpad.net/ubuntu/+source/google-perftools/2.5-2.2ubuntu3/+build/14795286/+files/google-perftools_2.5-2.2ubuntu3_all.deb\n",
        "    !wget https://launchpad.net/ubuntu/+source/google-perftools/2.5-2.2ubuntu3/+build/14795286/+files/libtcmalloc-minimal4_2.5-2.2ubuntu3_amd64.deb\n",
        "    !wget https://launchpad.net/ubuntu/+source/google-perftools/2.5-2.2ubuntu3/+build/14795286/+files/libgoogle-perftools4_2.5-2.2ubuntu3_amd64.deb\n",
        "    !apt -y install libunwind8-dev\n",
        "    !dpkg -i *.deb\n",
        "    %env LD_PRELOAD=libtcmalloc.so\n",
        "    !rm *.deb\n",
        "print(\"Done.\")\n",
        "\n",
        "# Downloading kohya\n",
        "print(\"Downloading Kohya_ss...\")\n",
        "with capture.capture_output() as cap:\n",
        "    %cd /content\n",
        "    !git clone https://github.com/bmaltais/kohya_ss kohya_ss\n",
        "print(\"Done.\")\n",
        "\n",
        "# Installing kohya requirements\n",
        "print(\"Installing requirements...\\n(Takes a few minutes, go get some coffee.)\")\n",
        "with capture.capture_output() as cap:\n",
        "    %cd /content/kohya_ss\n",
        "    !pip install -r requirements.txt\n",
        "print(\"Done.\")\n",
        "\n",
        "# Launching kohya\n",
        "print(\"Launching Kohya_ss...\\nUse the public url to access Kohya_ss' ui.\")\n",
        "!python kohya_gui.py --share"
      ]
    },
    {
      "cell_type": "markdown",
      "source": [
        "This colab is still in ALPHA state. Please report whatever unexpected stuff here:\n",
        "\n",
        "[Discord](https://discord.com/channels/1077510466470952990/1095175992873582592) --- [Github](https://shorturl.at/anFW8)\n",
        "___\n",
        "\n",
        "Known bugs so far:\n",
        "- LoRA extraction doesn't work. Process is killed before writing the file. Looks like a memory issue.\n",
        "- Warnings about TensorRT not being version 7. As far as I know, only 8 exists in colab. Harmless (theoretically).\n",
        "- Tensorflow stuff requires protobuf 3.20.3 on a side, and 3.19.6 on another. Not sure if really problematic to use one or the other so it's default for now."
      ],
      "metadata": {
        "id": "ygJE3QeteBO_"
      }
    }
  ]
}